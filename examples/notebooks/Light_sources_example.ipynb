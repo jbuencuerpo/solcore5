{
 "cells": [
  {
   "cell_type": "markdown",
   "metadata": {},
   "source": [
    "### Solcore - Light sources examples\n",
    "***\n",
    "Import libraries"
   ]
  },
  {
   "cell_type": "code",
   "execution_count": null,
   "metadata": {},
   "outputs": [],
   "source": [
    "import numpy as np\n",
    "import matplotlib.pyplot as plt\n",
    "import datetime \n",
    "\n",
    "from solcore.light_source import LightSource"
   ]
  },
  {
   "cell_type": "markdown",
   "metadata": {},
   "source": [
    "Define the wavelength `wl` range of the spectra"
   ]
  },
  {
   "cell_type": "code",
   "execution_count": null,
   "metadata": {},
   "outputs": [],
   "source": [
    "wl = np.linspace(300, 3000, 200)"
   ]
  },
  {
   "cell_type": "markdown",
   "metadata": {},
   "source": [
    "Now different types of light sources can be defined\n"
   ]
  },
  {
   "cell_type": "code",
   "execution_count": null,
   "metadata": {},
   "outputs": [],
   "source": [
    "gauss = LightSource(source_type='laser', x=wl, center=800, linewidth=50, power=200)\n",
    "bb = LightSource(source_type='black body', x=wl, T=5800, entendue='Sun')\n",
    "am15g = LightSource(source_type='standard', x=wl, version='AM1.5g')\n",
    "spectral = LightSource(source_type='SPECTRAL2', x=wl)"
   ]
  },
  {
   "cell_type": "markdown",
   "metadata": {},
   "source": [
    "Plot comparing the different light sources"
   ]
  },
  {
   "cell_type": "code",
   "execution_count": null,
   "metadata": {},
   "outputs": [],
   "source": [
    "plt.figure(1)\n",
    "plt.plot(*gauss.spectrum(), label='Gauss')\n",
    "plt.plot(*bb.spectrum(), label='Black body')\n",
    "plt.plot(*am15g.spectrum(), label='AM1.5G')\n",
    "plt.plot(*spectral.spectrum(), label='SPECTRAL2')\n",
    "\n",
    "plt.xlim(300, 3000)\n",
    "plt.xlabel('Wavelength (nm)')\n",
    "plt.ylabel('Power density (Wm$^{-2}$nm$^{-1}$)')\n",
    "plt.tight_layout()\n",
    "plt.legend()\n",
    "plt.show()"
   ]
  },
  {
   "cell_type": "markdown",
   "metadata": {},
   "source": [
    "Plot comparing the spectra calculated with GAUSS at different hours of the day"
   ]
  },
  {
   "cell_type": "code",
   "execution_count": null,
   "metadata": {},
   "outputs": [],
   "source": [
    "plt.figure(2)\n",
    "for h in range(8, 20):\n",
    "    plt.plot(*spectral.spectrum(dateAndTime=datetime.datetime(2011, 6, 30, h)), label=f"{h} h")\n",
    "\n",
    "plt.xlim(300, 3000)\n",
    "plt.xlabel('Wavelength (nm)')\n",
    "plt.ylabel('Power density (Wm$^{-2}$nm$^{-1}$)')\n",
    "plt.tight_layout()\n",
    "plt.legend()\n",
    "plt.show()"
   ]
  }
 ],
 "metadata": {
  "kernelspec": {
   "display_name": "Python 3",
   "language": "python",
   "name": "python3"
  },
  "language_info": {
   "codemirror_mode": {
    "name": "ipython",
    "version": 3
   },
   "file_extension": ".py",
   "mimetype": "text/x-python",
   "name": "python",
   "nbconvert_exporter": "python",
   "pygments_lexer": "ipython3",
   "version": "3.6.3"
  },
  "latex_envs": {
   "LaTeX_envs_menu_present": true,
   "autoclose": false,
   "autocomplete": true,
   "bibliofile": "biblio.bib",
   "cite_by": "apalike",
   "current_citInitial": 1,
   "eqLabelWithNumbers": true,
   "eqNumInitial": 1,
   "hotkeys": {
    "equation": "Ctrl-E",
    "itemize": "Ctrl-I"
   },
   "labels_anchors": false,
   "latex_user_defs": false,
   "report_style_numbering": false,
   "user_envs_cfg": false
  }
 },
 "nbformat": 4,
 "nbformat_minor": 2
}
